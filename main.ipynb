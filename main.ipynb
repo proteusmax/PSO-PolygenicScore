{
 "cells": [
  {
   "cell_type": "code",
   "execution_count": 1,
   "metadata": {},
   "outputs": [],
   "source": [
    "from GeneticFunctions import *\n",
    "from Problems import *\n",
    "from Population import*\n",
    "from PSO import *\n",
    "from pandas_plink import read_plink1_bin\n",
    "import pandas as pd"
   ]
  },
  {
   "cell_type": "code",
   "execution_count": 2,
   "metadata": {},
   "outputs": [],
   "source": [
    "pheno_file = \"C:\\\\Users\\\\13042\\\\Desktop\\\\Maestria\\\\Tesis\\\\Data\\\\toy\\\\QC2--phased--Data--001375--R--OMNI2.5.SIGMAv1_MCDS.toy.pheno\"\n",
    "prefix = \"C:\\\\Users\\\\13042\\\\Desktop\\\\Maestria\\\\Tesis\\\\Data\\\\toy\\\\QC2--Data--001375--R--OMNI2.5.SIGMAv1_MCDS.toy\"\n",
    "sumstat_file = \"C:\\\\Users\\\\13042\\\\Desktop\\\\Maestria\\\\Tesis\\\\Data\\\\toy\\\\gwas--bmi.tsv.toy\""
   ]
  },
  {
   "cell_type": "code",
   "execution_count": 2,
   "metadata": {},
   "outputs": [],
   "source": [
    "prefix = \"C:\\\\Users\\\\13042\\\\Desktop\\\\Maestria\\\\Tesis\\\\Data\\\\000618\\\\R\\\\STAGE1hg19\"\n",
    "pheno_file = \"C:\\\\Users\\\\13042\\\\Desktop\\\\Maestria\\\\Tesis\\\\Data\\\\000618\\\\R\\\\STAGE1hg19.pheno\"\n",
    "sumstat_file = \"C:\\\\Users\\\\13042\\\\Desktop\\\\Maestria\\\\Tesis\\\\Data\\\\GCST90239664--hg19.tsv\""
   ]
  },
  {
   "cell_type": "code",
   "execution_count": 3,
   "metadata": {},
   "outputs": [
    {
     "name": "stdout",
     "output_type": "stream",
     "text": [
      "Using 11 CPUs\n"
     ]
    },
    {
     "name": "stderr",
     "output_type": "stream",
     "text": [
      "c:\\Users\\13042\\Desktop\\Maestria\\Semestre4\\Evolutionary Computation\\HWs\\PSO-PolygenicScore\\GeneticFunctions\\aux_functions.py:35: DtypeWarning: Columns (1) have mixed types. Specify dtype option on import or set low_memory=False.\n",
      "  sumstats = pd.read_csv(sumstats_path, sep='\\t')\n"
     ]
    },
    {
     "name": "stdout",
     "output_type": "stream",
     "text": [
      "282,056 variants to be matched.\n",
      "1 ambiguous SNPs have been removed.\n",
      "138 variants have been matched; 0 were flipped and 37 were reversed.\n",
      "124 rows were removed due to the p_value threshold.\n",
      "14 SNPs passed the p_value threshold\n"
     ]
    }
   ],
   "source": [
    "HTGSM = Population(\"BinaryClassification\", prefix, pheno_file,sumstat_file,\"T2D\", config_file=\"inputs/params_PSO.cfg\", optimizer=\"PSO\")"
   ]
  },
  {
   "cell_type": "code",
   "execution_count": 4,
   "metadata": {},
   "outputs": [],
   "source": [
    "#HTGSM.P['STATUS'] = HTGSM.P['STATUS'].replace({'CASE': 1, 'CONTROL': 0})\n",
    "HTGSM.prepare_data()\n",
    "HTGSM.train_test_split()"
   ]
  },
  {
   "cell_type": "code",
   "execution_count": 5,
   "metadata": {},
   "outputs": [
    {
     "name": "stdout",
     "output_type": "stream",
     "text": [
      "Loaded optimizer parameters: {'pop_size': 20, 'c1': 2.3, 'c2': 1.4, 'w': 0.8, 'maxiter': 20, 'p_shrinkage': 0.45, 'p_aug': 0.05}\n"
     ]
    }
   ],
   "source": [
    "HTGSM.load_config()"
   ]
  },
  {
   "cell_type": "code",
   "execution_count": 6,
   "metadata": {},
   "outputs": [
    {
     "name": "stdout",
     "output_type": "stream",
     "text": [
      "======================================================================================================\n",
      "n_gen  |  n_eval  |    f     |    S    |    w    |    c1    |    c2    |     f_avg     |     f_min    \n",
      "======================================================================================================\n",
      "     1 |       20 |        - |       - |      20 |  2.30000 |  1.40000 |  0.6959292889 |  0.6927337646\n",
      "     2 |       40 |  0.42912 |       2 |  0.6705 |  2.32821 |  1.50000 |  0.6959292889 |  0.6927337646\n",
      "     3 |       60 |  0.42912 |       2 |  0.6705 |  2.37391 |  1.50000 |  0.6959292889 |  0.6927337646\n",
      "     4 |       80 |  0.42912 |       2 |  0.6705 |  2.42253 |  1.50000 |  0.6959292889 |  0.6927337646\n",
      "     5 |      100 |  0.00003 |       3 |  0.4000 |  2.45900 |  1.53647 |  0.6932080418 |  0.6653544307\n",
      "     6 |      120 |  0.43746 |       2 |  0.6752 |  2.49447 |  1.50099 |  0.6932080418 |  0.6653544307\n",
      "     7 |      140 |  0.22494 |       3 |  0.5447 |  2.47905 |  1.52889 |  0.6848220736 |  0.6335223317\n",
      "     8 |      160 |  0.17574 |       3 |  0.5129 |  2.45540 |  1.56170 |  0.6747877657 |  0.6312276125\n",
      "     9 |      180 | -9.4E-03 |       3 |  0.3941 |  2.43315 |  1.59276 |  0.6494465172 |  0.6071391106\n",
      "    10 |      200 |  0.06781 |       3 |  0.4430 |  2.40832 |  1.61923 |  0.6245713204 |  0.5586523414\n",
      "    11 |      220 | -6.0E-02 |       3 |  0.3629 |  2.38404 |  1.64202 |  0.5985212982 |  0.5530503988\n",
      "    12 |      240 | -5.8E-02 |       3 |  0.3644 |  2.36140 |  1.66402 |  0.5884004027 |  0.5437728167\n",
      "    13 |      260 |  0.01114 |       3 |  0.4070 |  2.33944 |  1.68673 |  0.5696856558 |  0.5377786756\n",
      "    14 |      280 | -4.1E-02 |       3 |  0.3746 |  2.31914 |  1.70268 |  0.5615732759 |  0.5300858021\n",
      "    15 |      300 | -3.4E-02 |       3 |  0.3790 |  2.29952 |  1.72856 |  0.5516155928 |  0.5254428387\n",
      "    16 |      320 | -1.9E-02 |       3 |  0.3882 |  2.27751 |  1.75030 |  0.5460300654 |  0.5216573477\n",
      "    17 |      340 | -2.5E-02 |       3 |  0.3844 |  2.25545 |  1.77552 |  0.5416788757 |  0.5163856745\n",
      "    18 |      360 | -2.1E-02 |       3 |  0.3869 |  2.23337 |  1.79415 |  0.5327543527 |  0.5104339719\n",
      "    19 |      380 | -1.9E-02 |       3 |  0.3881 |  2.21285 |  1.81810 |  0.5240695536 |  0.5028425455\n",
      "    20 |      400 | -2.7E-02 |       3 |  0.3832 |  2.19239 |  1.83296 |  0.5138334736 |  0.4957720935\n",
      "Best solution dtype: float64\n",
      "Best fitness dtype: float64\n"
     ]
    }
   ],
   "source": [
    "HTGSM.optimize_weights()"
   ]
  },
  {
   "cell_type": "code",
   "execution_count": 9,
   "metadata": {},
   "outputs": [
    {
     "name": "stdout",
     "output_type": "stream",
     "text": [
      "Loaded optimizer parameters: {}\n"
     ]
    }
   ],
   "source": [
    "HTGSM.optimizer = \"PSO\"\n",
    "HTGSM.config_file=\"inputs/params_PSO.cfg\"\n",
    "HTGSM.load_config()"
   ]
  },
  {
   "cell_type": "code",
   "execution_count": 8,
   "metadata": {},
   "outputs": [
    {
     "ename": "KeyError",
     "evalue": "'p_shrinkage'",
     "output_type": "error",
     "traceback": [
      "\u001b[1;31m---------------------------------------------------------------------------\u001b[0m",
      "\u001b[1;31mKeyError\u001b[0m                                  Traceback (most recent call last)",
      "Cell \u001b[1;32mIn[8], line 1\u001b[0m\n\u001b[1;32m----> 1\u001b[0m \u001b[43mHTGSM\u001b[49m\u001b[38;5;241;43m.\u001b[39;49m\u001b[43moptimize_weights\u001b[49m\u001b[43m(\u001b[49m\u001b[43m)\u001b[49m\n",
      "File \u001b[1;32mc:\\Users\\13042\\Desktop\\Maestria\\Semestre4\\Evolutionary Computation\\HWs\\PSO-PolygenicScore\\Population\\population.py:293\u001b[0m, in \u001b[0;36mPopulation.optimize_weights\u001b[1;34m(self)\u001b[0m\n\u001b[0;32m    290\u001b[0m         out[\u001b[38;5;124m\"\u001b[39m\u001b[38;5;124mF\u001b[39m\u001b[38;5;124m\"\u001b[39m] \u001b[38;5;241m=\u001b[39m np\u001b[38;5;241m.\u001b[39marray(fitness_values, dtype\u001b[38;5;241m=\u001b[39mnp\u001b[38;5;241m.\u001b[39mfloat32)  \u001b[38;5;66;03m# Store results as float32\u001b[39;00m\n\u001b[0;32m    292\u001b[0m problem \u001b[38;5;241m=\u001b[39m CustomProblem(\u001b[38;5;28mself\u001b[39m)\n\u001b[1;32m--> 293\u001b[0m sampling \u001b[38;5;241m=\u001b[39m \u001b[43mCustomSampling\u001b[49m\u001b[43m(\u001b[49m\u001b[38;5;28;43mself\u001b[39;49m\u001b[43m)\u001b[49m\n\u001b[0;32m    295\u001b[0m \u001b[38;5;28;01mif\u001b[39;00m \u001b[38;5;28mself\u001b[39m\u001b[38;5;241m.\u001b[39moptimizer \u001b[38;5;241m==\u001b[39m \u001b[38;5;124m\"\u001b[39m\u001b[38;5;124mDE\u001b[39m\u001b[38;5;124m\"\u001b[39m:\n\u001b[0;32m    296\u001b[0m     algorithm \u001b[38;5;241m=\u001b[39m DE(\n\u001b[0;32m    297\u001b[0m         pop_size\u001b[38;5;241m=\u001b[39m\u001b[38;5;28mself\u001b[39m\u001b[38;5;241m.\u001b[39mparams[\u001b[38;5;124m\"\u001b[39m\u001b[38;5;124mpop_size\u001b[39m\u001b[38;5;124m\"\u001b[39m],  \u001b[38;5;66;03m# Population size\u001b[39;00m\n\u001b[0;32m    298\u001b[0m         sampling\u001b[38;5;241m=\u001b[39msampling,  \u001b[38;5;66;03m# Random initialization\u001b[39;00m\n\u001b[1;32m   (...)\u001b[0m\n\u001b[0;32m    301\u001b[0m         F\u001b[38;5;241m=\u001b[39m\u001b[38;5;28mself\u001b[39m\u001b[38;5;241m.\u001b[39mparams[\u001b[38;5;124m\"\u001b[39m\u001b[38;5;124mf\u001b[39m\u001b[38;5;124m\"\u001b[39m],   \u001b[38;5;66;03m# Differential mutation factor\u001b[39;00m\n\u001b[0;32m    302\u001b[0m     )\n",
      "File \u001b[1;32mc:\\Users\\13042\\Desktop\\Maestria\\Semestre4\\Evolutionary Computation\\HWs\\PSO-PolygenicScore\\Population\\population.py:207\u001b[0m, in \u001b[0;36mPopulation.optimize_weights.<locals>.CustomSampling.__init__\u001b[1;34m(self, population)\u001b[0m\n\u001b[0;32m    205\u001b[0m \u001b[38;5;28mself\u001b[39m\u001b[38;5;241m.\u001b[39mpopulation \u001b[38;5;241m=\u001b[39m population\n\u001b[0;32m    206\u001b[0m \u001b[38;5;66;03m# Retrieve p_shrinkage and p_aug from population's params\u001b[39;00m\n\u001b[1;32m--> 207\u001b[0m \u001b[38;5;28mself\u001b[39m\u001b[38;5;241m.\u001b[39mp_shrinkage \u001b[38;5;241m=\u001b[39m \u001b[43mpopulation\u001b[49m\u001b[38;5;241;43m.\u001b[39;49m\u001b[43mparams\u001b[49m\u001b[43m[\u001b[49m\u001b[38;5;124;43m\"\u001b[39;49m\u001b[38;5;124;43mp_shrinkage\u001b[39;49m\u001b[38;5;124;43m\"\u001b[39;49m\u001b[43m]\u001b[49m\n\u001b[0;32m    208\u001b[0m \u001b[38;5;28mself\u001b[39m\u001b[38;5;241m.\u001b[39mp_aug \u001b[38;5;241m=\u001b[39m population\u001b[38;5;241m.\u001b[39mparams[\u001b[38;5;124m\"\u001b[39m\u001b[38;5;124mp_aug\u001b[39m\u001b[38;5;124m\"\u001b[39m]\n",
      "\u001b[1;31mKeyError\u001b[0m: 'p_shrinkage'"
     ]
    }
   ],
   "source": [
    "HTGSM.optimize_weights()"
   ]
  },
  {
   "cell_type": "code",
   "execution_count": null,
   "metadata": {},
   "outputs": [
    {
     "name": "stdout",
     "output_type": "stream",
     "text": [
      "ROC curve testing AUC score: 1.00\n"
     ]
    },
    {
     "name": "stderr",
     "output_type": "stream",
     "text": [
      "c:\\Users\\13042\\anaconda3\\envs\\my_env\\lib\\site-packages\\statsmodels\\genmod\\families\\links.py:198: RuntimeWarning: overflow encountered in exp\n",
      "  t = np.exp(-z)\n"
     ]
    },
    {
     "ename": "AttributeError",
     "evalue": "'NoneType' object has no attribute 'get_params'",
     "output_type": "error",
     "traceback": [
      "\u001b[1;31m---------------------------------------------------------------------------\u001b[0m",
      "\u001b[1;31mAttributeError\u001b[0m                            Traceback (most recent call last)",
      "Cell \u001b[1;32mIn[7], line 1\u001b[0m\n\u001b[1;32m----> 1\u001b[0m \u001b[43mHTGSM\u001b[49m\u001b[38;5;241;43m.\u001b[39;49m\u001b[43mreturn_auc\u001b[49m\u001b[43m(\u001b[49m\u001b[43mHTGSM\u001b[49m\u001b[38;5;241;43m.\u001b[39;49m\u001b[43mtest\u001b[49m\u001b[43m,\u001b[49m\u001b[43m \u001b[49m\u001b[43mtitle\u001b[49m\u001b[43m \u001b[49m\u001b[38;5;241;43m=\u001b[39;49m\u001b[43m \u001b[49m\u001b[38;5;124;43m\"\u001b[39;49m\u001b[38;5;124;43mROC curve testing\u001b[39;49m\u001b[38;5;124;43m\"\u001b[39;49m\u001b[43m)\u001b[49m\n",
      "File \u001b[1;32mc:\\Users\\13042\\Desktop\\Maestria\\Semestre4\\Evolutionary Computation\\HWs\\PSO-PolygenicScore\\Population\\population.py:227\u001b[0m, in \u001b[0;36mPopulation.return_auc\u001b[1;34m(self, index, binary, adjusted, title)\u001b[0m\n\u001b[0;32m    225\u001b[0m plt\u001b[38;5;241m.\u001b[39mtitle(title)\n\u001b[0;32m    226\u001b[0m plt\u001b[38;5;241m.\u001b[39mlegend(loc\u001b[38;5;241m=\u001b[39m\u001b[38;5;124m'\u001b[39m\u001b[38;5;124mlower right\u001b[39m\u001b[38;5;124m'\u001b[39m)\n\u001b[1;32m--> 227\u001b[0m params \u001b[38;5;241m=\u001b[39m \u001b[38;5;28;43mself\u001b[39;49m\u001b[38;5;241;43m.\u001b[39;49m\u001b[43mget_params\u001b[49m\u001b[43m(\u001b[49m\u001b[43m)\u001b[49m\n\u001b[0;32m    228\u001b[0m fig_path \u001b[38;5;241m=\u001b[39m \u001b[38;5;124mf\u001b[39m\u001b[38;5;124m'\u001b[39m\u001b[38;5;124mresults/pso_\u001b[39m\u001b[38;5;132;01m{\u001b[39;00mparams\u001b[38;5;132;01m}\u001b[39;00m\u001b[38;5;124m_\u001b[39m\u001b[38;5;132;01m{\u001b[39;00mtitle\u001b[38;5;241m.\u001b[39mreplace(\u001b[38;5;124m\"\u001b[39m\u001b[38;5;124m \u001b[39m\u001b[38;5;124m\"\u001b[39m,\u001b[38;5;250m \u001b[39m\u001b[38;5;124m\"\u001b[39m\u001b[38;5;124m_\u001b[39m\u001b[38;5;124m\"\u001b[39m)\u001b[38;5;132;01m}\u001b[39;00m\u001b[38;5;124m.png\u001b[39m\u001b[38;5;124m'\u001b[39m\n\u001b[0;32m    229\u001b[0m plt\u001b[38;5;241m.\u001b[39msavefig(fig_path, \u001b[38;5;28mformat\u001b[39m\u001b[38;5;241m=\u001b[39m\u001b[38;5;124m'\u001b[39m\u001b[38;5;124mpng\u001b[39m\u001b[38;5;124m'\u001b[39m)\n",
      "File \u001b[1;32mc:\\Users\\13042\\Desktop\\Maestria\\Semestre4\\Evolutionary Computation\\HWs\\PSO-PolygenicScore\\Population\\population.py:158\u001b[0m, in \u001b[0;36mPopulation.get_params\u001b[1;34m(self)\u001b[0m\n\u001b[0;32m    157\u001b[0m \u001b[38;5;28;01mdef\u001b[39;00m \u001b[38;5;21mget_params\u001b[39m(\u001b[38;5;28mself\u001b[39m):\n\u001b[1;32m--> 158\u001b[0m     swarm_settings \u001b[38;5;241m=\u001b[39m \u001b[38;5;28;43mself\u001b[39;49m\u001b[38;5;241;43m.\u001b[39;49m\u001b[43moptimizer\u001b[49m\u001b[38;5;241;43m.\u001b[39;49m\u001b[43mget_params\u001b[49m()\n\u001b[0;32m    159\u001b[0m     \u001b[38;5;28;01mreturn\u001b[39;00m \u001b[38;5;124m\"\u001b[39m\u001b[38;5;124m_\u001b[39m\u001b[38;5;124m\"\u001b[39m\u001b[38;5;241m.\u001b[39mjoin([\u001b[38;5;124mf\u001b[39m\u001b[38;5;124m\"\u001b[39m\u001b[38;5;132;01m{\u001b[39;00mkey\u001b[38;5;132;01m}\u001b[39;00m\u001b[38;5;124m:\u001b[39m\u001b[38;5;132;01m{\u001b[39;00mvalue\u001b[38;5;132;01m}\u001b[39;00m\u001b[38;5;124m\"\u001b[39m \u001b[38;5;28;01mfor\u001b[39;00m key, value \u001b[38;5;129;01min\u001b[39;00m swarm_settings\u001b[38;5;241m.\u001b[39mitems()])\n",
      "\u001b[1;31mAttributeError\u001b[0m: 'NoneType' object has no attribute 'get_params'"
     ]
    },
    {
     "data": {
      "image/png": "[encoded data removed]",
      "text/plain": [
       "<Figure size 640x480 with 1 Axes>"
      ]
     },
     "metadata": {},
     "output_type": "display_data"
    }
   ],
   "source": [
    "HTGSM.return_auc(HTGSM.train, title = \"ROC curve training\")\n",
    "HTGSM.return_auc(HTGSM.test, title = \"ROC curve testing\")"
   ]
  },
  {
   "cell_type": "code",
   "execution_count": 7,
   "metadata": {},
   "outputs": [
    {
     "data": {
      "text/plain": [
       "array([ 0.4019607 , -0.81908421])"
      ]
     },
     "execution_count": 7,
     "metadata": {},
     "output_type": "execute_result"
    }
   ],
   "source": [
    "HTGSM.best_solution"
   ]
  },
  {
   "cell_type": "code",
   "execution_count": 8,
   "metadata": {},
   "outputs": [
    {
     "ename": "AttributeError",
     "evalue": "'NoneType' object has no attribute 'gbest'",
     "output_type": "error",
     "traceback": [
      "\u001b[1;31m---------------------------------------------------------------------------\u001b[0m",
      "\u001b[1;31mAttributeError\u001b[0m                            Traceback (most recent call last)",
      "Cell \u001b[1;32mIn[8], line 1\u001b[0m\n\u001b[1;32m----> 1\u001b[0m \u001b[43mHTGSM\u001b[49m\u001b[38;5;241;43m.\u001b[39;49m\u001b[43mreturn_auc\u001b[49m\u001b[43m(\u001b[49m\u001b[43mHTGSM\u001b[49m\u001b[38;5;241;43m.\u001b[39;49m\u001b[43mtest\u001b[49m\u001b[43m)\u001b[49m\n",
      "File \u001b[1;32mc:\\Users\\13042\\Desktop\\Maestria\\Semestre4\\Evolutionary Computation\\HWs\\PSO-PolygenicScore\\Population\\population.py:167\u001b[0m, in \u001b[0;36mPopulation.return_auc\u001b[1;34m(self, index, binary, adjusted, title)\u001b[0m\n\u001b[0;32m    164\u001b[0m \u001b[38;5;28;01mdef\u001b[39;00m \u001b[38;5;21mreturn_auc\u001b[39m(\u001b[38;5;28mself\u001b[39m, index\u001b[38;5;241m=\u001b[39m\u001b[38;5;28;01mNone\u001b[39;00m, binary\u001b[38;5;241m=\u001b[39m\u001b[38;5;28;01mTrue\u001b[39;00m, adjusted\u001b[38;5;241m=\u001b[39m\u001b[38;5;28;01mTrue\u001b[39;00m, title\u001b[38;5;241m=\u001b[39m\u001b[38;5;124m'\u001b[39m\u001b[38;5;124mROC Curve\u001b[39m\u001b[38;5;124m'\u001b[39m):\n\u001b[0;32m    165\u001b[0m \u001b[38;5;250m    \u001b[39m\u001b[38;5;124;03m\"\"\"Calculate the loss function using the beta_vector from a given particle\"\"\"\u001b[39;00m\n\u001b[1;32m--> 167\u001b[0m     best_beta_vector \u001b[38;5;241m=\u001b[39m \u001b[38;5;28;43mself\u001b[39;49m\u001b[38;5;241;43m.\u001b[39;49m\u001b[43mget_optimized_weights\u001b[49m\u001b[43m(\u001b[49m\u001b[43m)\u001b[49m\n\u001b[0;32m    168\u001b[0m     PGS_vector \u001b[38;5;241m=\u001b[39m \u001b[38;5;28mself\u001b[39m\u001b[38;5;241m.\u001b[39mcalculate_pgs(best_beta_vector, index)\n\u001b[0;32m    169\u001b[0m     y_filtered \u001b[38;5;241m=\u001b[39m \u001b[38;5;28mself\u001b[39m\u001b[38;5;241m.\u001b[39my\u001b[38;5;241m.\u001b[39miloc[index] \u001b[38;5;28;01mif\u001b[39;00m index \u001b[38;5;129;01mis\u001b[39;00m \u001b[38;5;129;01mnot\u001b[39;00m \u001b[38;5;28;01mNone\u001b[39;00m \u001b[38;5;28;01melse\u001b[39;00m \u001b[38;5;28mself\u001b[39m\u001b[38;5;241m.\u001b[39my\n",
      "File \u001b[1;32mc:\\Users\\13042\\Desktop\\Maestria\\Semestre4\\Evolutionary Computation\\HWs\\PSO-PolygenicScore\\Population\\population.py:162\u001b[0m, in \u001b[0;36mPopulation.get_optimized_weights\u001b[1;34m(self)\u001b[0m\n\u001b[0;32m    161\u001b[0m \u001b[38;5;28;01mdef\u001b[39;00m \u001b[38;5;21mget_optimized_weights\u001b[39m(\u001b[38;5;28mself\u001b[39m):\n\u001b[1;32m--> 162\u001b[0m     \u001b[38;5;28;01mreturn\u001b[39;00m \u001b[38;5;28;43mself\u001b[39;49m\u001b[38;5;241;43m.\u001b[39;49m\u001b[43moptimizer\u001b[49m\u001b[38;5;241;43m.\u001b[39;49m\u001b[43mgbest\u001b[49m\u001b[38;5;241m.\u001b[39mget_x()\n",
      "\u001b[1;31mAttributeError\u001b[0m: 'NoneType' object has no attribute 'gbest'"
     ]
    }
   ],
   "source": [
    "HTGSM.return_auc(HTGSM.test)"
   ]
  },
  {
   "cell_type": "code",
   "execution_count": null,
   "metadata": {},
   "outputs": [],
   "source": [
    "HTGSM.return_auc(HTGSM.train)"
   ]
  }
 ],
 "metadata": {
  "kernelspec": {
   "display_name": "my_env",
   "language": "python",
   "name": "python3"
  },
  "language_info": {
   "codemirror_mode": {
    "name": "ipython",
    "version": 3
   },
   "file_extension": ".py",
   "mimetype": "text/x-python",
   "name": "python",
   "nbconvert_exporter": "python",
   "pygments_lexer": "ipython3",
   "version": "3.9.19"
  }
 },
 "nbformat": 4,
 "nbformat_minor": 2
}
